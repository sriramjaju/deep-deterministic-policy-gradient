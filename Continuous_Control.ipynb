{
 "cells": [
  {
   "cell_type": "markdown",
   "metadata": {},
   "source": [
    "# Continuous Control\n",
    "\n",
    "---\n",
    "\n",
    "In this notebook, I will train a DDPG model using Unity ML environment.\n",
    "\n",
    "### 1. Start the Environment\n",
    "\n",
    "Run the next code cell to install a few packages(if you haven't already). This line will take a few minutes to run!"
   ]
  },
  {
   "cell_type": "code",
   "execution_count": null,
   "metadata": {},
   "outputs": [],
   "source": [
    "#!pip -q install ./python"
   ]
  },
  {
   "cell_type": "markdown",
   "metadata": {},
   "source": [
    "Please select one of the two options below for loading the environment."
   ]
  },
  {
   "cell_type": "code",
   "execution_count": 1,
   "metadata": {},
   "outputs": [
    {
     "name": "stderr",
     "output_type": "stream",
     "text": [
      "INFO:unityagents:\n",
      "'Academy' started successfully!\n",
      "Unity Academy name: Academy\n",
      "        Number of Brains: 1\n",
      "        Number of External Brains : 1\n",
      "        Lesson number : 0\n",
      "        Reset Parameters :\n",
      "\t\tgoal_speed -> 1.0\n",
      "\t\tgoal_size -> 5.0\n",
      "Unity brain name: ReacherBrain\n",
      "        Number of Visual Observations (per agent): 0\n",
      "        Vector Observation space type: continuous\n",
      "        Vector Observation space size (per agent): 33\n",
      "        Number of stacked Vector Observation: 1\n",
      "        Vector Action space type: continuous\n",
      "        Vector Action space size (per agent): 4\n",
      "        Vector Action descriptions: , , , \n"
     ]
    }
   ],
   "source": [
    "from unityagents import UnityEnvironment\n",
    "import numpy as np\n",
    "import torch\n",
    "from collections import deque\n",
    "import matplotlib.pyplot as plt\n",
    "%matplotlib inline\n",
    "\n",
    "from ddpg_agent import Agent\n",
    "\n",
    "# select this option to load version 1 (with a single agent) of the environment\n",
    "# env = UnityEnvironment(file_name='/data/Reacher_One_Linux_NoVis/Reacher_One_Linux_NoVis.x86_64')\n",
    "\n",
    "# select this option to load version 2 (with 20 agents) of the environment\n",
    "#env = UnityEnvironment(file_name='/data/Reacher_Linux_NoVis/Reacher.x86_64')\n",
    "\n",
    "# select this if you are running the reacher app on your local machine(windows)\n",
    "env = UnityEnvironment(file_name='Reacher_Windows_x86_64/Reacher.exe')"
   ]
  },
  {
   "cell_type": "markdown",
   "metadata": {},
   "source": [
    "In this environment, a double-jointed arm can move to target locations. A reward of +0.1 is provided for each step that the agent's hand is in the goal location. Thus, the goal of your agent is to maintain its position at the target location for as many time steps as possible.\n",
    "\n",
    "The observation space consists of 33 variables corresponding to position, rotation, velocity, and angular velocities of the arm. Each action is a vector with four numbers, corresponding to torque applicable to two joints. Every entry in the action vector should be a number between -1 and 1.\n",
    "\n",
    "Environments contain **_brains_** which are responsible for deciding the actions of their associated agents. Here we check for the first brain available, and set it as the default brain we will be controlling from Python."
   ]
  },
  {
   "cell_type": "code",
   "execution_count": 2,
   "metadata": {},
   "outputs": [],
   "source": [
    "# get the default brain\n",
    "brain_name = env.brain_names[0]\n",
    "brain = env.brains[brain_name]"
   ]
  },
  {
   "cell_type": "markdown",
   "metadata": {},
   "source": [
    "### 2. Examine the State and Action Spaces\n",
    "\n",
    "Run the code cell below to print some information about the environment."
   ]
  },
  {
   "cell_type": "code",
   "execution_count": 3,
   "metadata": {},
   "outputs": [
    {
     "name": "stdout",
     "output_type": "stream",
     "text": [
      "Number of agents: 20\n",
      "Size of each action: 4\n",
      "There are 20 agents. Each observes a state with length: 33\n",
      "The state for the first agent looks like: [ 0.00000000e+00 -4.00000000e+00  0.00000000e+00  1.00000000e+00\n",
      " -0.00000000e+00 -0.00000000e+00 -4.37113883e-08  0.00000000e+00\n",
      "  0.00000000e+00  0.00000000e+00  0.00000000e+00  0.00000000e+00\n",
      "  0.00000000e+00  0.00000000e+00 -1.00000000e+01  0.00000000e+00\n",
      "  1.00000000e+00 -0.00000000e+00 -0.00000000e+00 -4.37113883e-08\n",
      "  0.00000000e+00  0.00000000e+00  0.00000000e+00  0.00000000e+00\n",
      "  0.00000000e+00  0.00000000e+00  5.75471878e+00 -1.00000000e+00\n",
      "  5.55726624e+00  0.00000000e+00  1.00000000e+00  0.00000000e+00\n",
      " -1.68164849e-01]\n"
     ]
    }
   ],
   "source": [
    "# reset the environment\n",
    "env_info = env.reset(train_mode=True)[brain_name]\n",
    "\n",
    "# number of agents\n",
    "num_agents = len(env_info.agents)\n",
    "print('Number of agents:', num_agents)\n",
    "\n",
    "# size of each action\n",
    "action_size = brain.vector_action_space_size\n",
    "print('Size of each action:', action_size)\n",
    "\n",
    "# examine the state space \n",
    "states = env_info.vector_observations\n",
    "state_size = states.shape[1]\n",
    "print('There are {} agents. Each observes a state with length: {}'.format(states.shape[0], state_size))\n",
    "print('The state for the first agent looks like:', states[0])"
   ]
  },
  {
   "cell_type": "markdown",
   "metadata": {},
   "source": [
    "### 3. Train the Agent\n",
    "\n",
    "**Important Note**:\n",
    "When training the environment, set `train_mode=True`, so that the line for resetting the environment looks like the following:\n",
    "```python\n",
    "env_info = env.reset(train_mode=True)[brain_name]\n",
    "```"
   ]
  },
  {
   "cell_type": "code",
   "execution_count": 4,
   "metadata": {},
   "outputs": [],
   "source": [
    "agent = Agent(state_size=state_size, action_size=action_size, num_agents=num_agents, random_seed=42)"
   ]
  },
  {
   "cell_type": "code",
   "execution_count": 6,
   "metadata": {},
   "outputs": [
    {
     "name": "stdout",
     "output_type": "stream",
     "text": [
      "Episode 1\tScore: 0.84\tAverage Score: 0.84\n",
      "Episode 2\tScore: 0.49\tAverage Score: 0.67\n",
      "Episode 3\tScore: 0.74\tAverage Score: 0.69\n",
      "Episode 4\tScore: 0.61\tAverage Score: 0.67\n",
      "Episode 5\tScore: 0.81\tAverage Score: 0.70\n",
      "Episode 6\tScore: 1.13\tAverage Score: 0.77\n",
      "Episode 7\tScore: 1.16\tAverage Score: 0.83\n",
      "Episode 8\tScore: 1.61\tAverage Score: 0.92\n",
      "Episode 9\tScore: 1.48\tAverage Score: 0.99\n",
      "Episode 10\tScore: 1.60\tAverage Score: 1.05\n",
      "Episode 11\tScore: 1.44\tAverage Score: 1.08\n",
      "Episode 12\tScore: 1.49\tAverage Score: 1.12\n",
      "Episode 13\tScore: 1.63\tAverage Score: 1.16\n",
      "Episode 14\tScore: 2.21\tAverage Score: 1.23\n",
      "Episode 15\tScore: 2.11\tAverage Score: 1.29\n",
      "Episode 16\tScore: 2.16\tAverage Score: 1.34\n",
      "Episode 17\tScore: 2.71\tAverage Score: 1.43\n",
      "Episode 18\tScore: 2.99\tAverage Score: 1.51\n",
      "Episode 19\tScore: 4.81\tAverage Score: 1.69\n",
      "Episode 20\tScore: 4.50\tAverage Score: 1.83\n",
      "Episode 21\tScore: 6.82\tAverage Score: 2.06\n",
      "Episode 22\tScore: 7.19\tAverage Score: 2.30\n",
      "Episode 23\tScore: 9.29\tAverage Score: 2.60\n",
      "Episode 24\tScore: 9.19\tAverage Score: 2.88\n",
      "Episode 25\tScore: 8.58\tAverage Score: 3.10\n",
      "Episode 26\tScore: 10.39\tAverage Score: 3.38\n",
      "Episode 27\tScore: 12.37\tAverage Score: 3.72\n",
      "Episode 28\tScore: 13.22\tAverage Score: 4.06\n",
      "Episode 29\tScore: 13.62\tAverage Score: 4.39\n",
      "Episode 30\tScore: 13.03\tAverage Score: 4.67\n",
      "Episode 31\tScore: 15.75\tAverage Score: 5.03\n",
      "Episode 32\tScore: 14.93\tAverage Score: 5.34\n",
      "Episode 33\tScore: 19.31\tAverage Score: 5.76\n",
      "Episode 34\tScore: 19.78\tAverage Score: 6.18\n",
      "Episode 35\tScore: 21.66\tAverage Score: 6.62\n",
      "Episode 36\tScore: 21.57\tAverage Score: 7.03\n",
      "Episode 37\tScore: 23.24\tAverage Score: 7.47\n",
      "Episode 38\tScore: 25.33\tAverage Score: 7.94\n",
      "Episode 39\tScore: 27.71\tAverage Score: 8.45\n",
      "Episode 40\tScore: 27.33\tAverage Score: 8.92\n",
      "Episode 41\tScore: 28.66\tAverage Score: 9.40\n",
      "Episode 42\tScore: 31.05\tAverage Score: 9.92\n",
      "Episode 43\tScore: 33.68\tAverage Score: 10.47\n",
      "Episode 44\tScore: 32.40\tAverage Score: 10.97\n",
      "Episode 45\tScore: 33.44\tAverage Score: 11.47\n",
      "Episode 46\tScore: 33.83\tAverage Score: 11.95\n",
      "Episode 47\tScore: 34.51\tAverage Score: 12.43\n",
      "Episode 48\tScore: 35.54\tAverage Score: 12.92\n",
      "Episode 49\tScore: 35.35\tAverage Score: 13.37\n",
      "Episode 50\tScore: 35.72\tAverage Score: 13.82\n",
      "Episode 51\tScore: 35.91\tAverage Score: 14.25\n",
      "Episode 52\tScore: 35.74\tAverage Score: 14.67\n",
      "Episode 53\tScore: 36.60\tAverage Score: 15.08\n",
      "Episode 54\tScore: 37.26\tAverage Score: 15.49\n",
      "Episode 55\tScore: 37.16\tAverage Score: 15.89\n",
      "Episode 56\tScore: 37.29\tAverage Score: 16.27\n",
      "Episode 57\tScore: 37.91\tAverage Score: 16.65\n",
      "Episode 58\tScore: 37.70\tAverage Score: 17.01\n",
      "Episode 59\tScore: 38.32\tAverage Score: 17.37\n",
      "Episode 60\tScore: 37.72\tAverage Score: 17.71\n",
      "Episode 61\tScore: 37.94\tAverage Score: 18.04\n",
      "Episode 62\tScore: 37.90\tAverage Score: 18.36\n",
      "Episode 63\tScore: 37.60\tAverage Score: 18.67\n",
      "Episode 64\tScore: 36.78\tAverage Score: 18.95\n",
      "Episode 65\tScore: 37.37\tAverage Score: 19.23\n",
      "Episode 66\tScore: 36.81\tAverage Score: 19.50\n",
      "Episode 67\tScore: 36.54\tAverage Score: 19.76\n",
      "Episode 68\tScore: 35.95\tAverage Score: 19.99\n",
      "Episode 69\tScore: 36.91\tAverage Score: 20.24\n",
      "Episode 70\tScore: 37.43\tAverage Score: 20.48\n",
      "Episode 71\tScore: 36.88\tAverage Score: 20.72\n",
      "Episode 72\tScore: 37.01\tAverage Score: 20.94\n",
      "Episode 73\tScore: 36.64\tAverage Score: 21.16\n",
      "Episode 74\tScore: 35.33\tAverage Score: 21.35\n",
      "Episode 75\tScore: 36.13\tAverage Score: 21.55\n",
      "Episode 76\tScore: 36.82\tAverage Score: 21.75\n",
      "Episode 77\tScore: 36.68\tAverage Score: 21.94\n",
      "Episode 78\tScore: 36.81\tAverage Score: 22.13\n",
      "Episode 79\tScore: 35.96\tAverage Score: 22.31\n",
      "Episode 80\tScore: 34.66\tAverage Score: 22.46\n",
      "Episode 81\tScore: 31.38\tAverage Score: 22.57\n",
      "Episode 82\tScore: 36.28\tAverage Score: 22.74\n",
      "Episode 83\tScore: 36.09\tAverage Score: 22.90\n",
      "Episode 84\tScore: 36.12\tAverage Score: 23.06\n",
      "Episode 85\tScore: 35.73\tAverage Score: 23.20\n",
      "Episode 86\tScore: 35.29\tAverage Score: 23.35\n",
      "Episode 87\tScore: 36.67\tAverage Score: 23.50\n",
      "Episode 88\tScore: 37.20\tAverage Score: 23.65\n",
      "Episode 89\tScore: 36.03\tAverage Score: 23.79\n",
      "Episode 90\tScore: 36.30\tAverage Score: 23.93\n",
      "Episode 91\tScore: 36.61\tAverage Score: 24.07\n",
      "Episode 92\tScore: 37.03\tAverage Score: 24.21\n",
      "Episode 93\tScore: 36.86\tAverage Score: 24.35\n",
      "Episode 94\tScore: 36.72\tAverage Score: 24.48\n",
      "Episode 95\tScore: 35.17\tAverage Score: 24.59\n",
      "Episode 96\tScore: 35.12\tAverage Score: 24.70\n",
      "Episode 97\tScore: 36.03\tAverage Score: 24.82\n",
      "Episode 98\tScore: 37.41\tAverage Score: 24.95\n",
      "Episode 99\tScore: 36.94\tAverage Score: 25.07\n",
      "Episode 100\tScore: 36.53\tAverage Score: 25.18\n",
      "Episode 101\tScore: 37.81\tAverage Score: 25.55\n",
      "Episode 102\tScore: 36.34\tAverage Score: 25.91\n",
      "Episode 103\tScore: 37.35\tAverage Score: 26.28\n",
      "Episode 104\tScore: 35.66\tAverage Score: 26.63\n",
      "Episode 105\tScore: 35.64\tAverage Score: 26.98\n",
      "Episode 106\tScore: 36.31\tAverage Score: 27.33\n",
      "Episode 107\tScore: 35.37\tAverage Score: 27.67\n",
      "Episode 108\tScore: 33.60\tAverage Score: 27.99\n",
      "Episode 109\tScore: 35.24\tAverage Score: 28.33\n",
      "Episode 110\tScore: 36.44\tAverage Score: 28.68\n",
      "Episode 111\tScore: 36.34\tAverage Score: 29.02\n",
      "Episode 112\tScore: 36.22\tAverage Score: 29.37\n",
      "Episode 113\tScore: 37.67\tAverage Score: 29.73\n",
      "Episode 114\tScore: 36.58\tAverage Score: 30.08\n",
      "\n",
      "Environment solved in 14 episodes!\tAverage Score: 30.08\n"
     ]
    },
    {
     "data": {
      "image/png": "[encoded data removed]",
      "text/plain": [
       "<matplotlib.figure.Figure at 0x7f70c3bb66d8>"
      ]
     },
     "metadata": {
      "needs_background": "light"
     },
     "output_type": "display_data"
    }
   ],
   "source": [
    "def ddpg(n_episodes=1000):\n",
    "    scores_deque = deque(maxlen=100)\n",
    "    scores_list = []\n",
    "    for i_episode in range(1, n_episodes+1):\n",
    "        env_info = env.reset(train_mode=True)[brain_name]     # reset the environment    \n",
    "        states = env_info.vector_observations                  # get the current state (for each agent)\n",
    "        agent.reset()\n",
    "        scores = np.zeros(num_agents)                          # initialize the score (for each agent)\n",
    "\n",
    "        while True:\n",
    "            actions = agent.act(states)                        # select an action (for each agent)\n",
    "            env_info = env.step(actions)[brain_name]           # send all actions to tne environment\n",
    "            next_states = env_info.vector_observations         # get next state (for each agent)\n",
    "            rewards = env_info.rewards                         # get reward (for each agent)\n",
    "            dones = env_info.local_done                        # see if episode finished\n",
    "            agent.step(states, actions, rewards, next_states, dones)\n",
    "            scores += rewards                                  # update the score (for each agent)\n",
    "            states = next_states\n",
    "            if np.any(dones):\n",
    "                break \n",
    "        scores_deque.append(np.mean(scores)) # np.mean(scores) because multiple agents hence avg. over all agents\n",
    "        scores_list.append(np.mean(scores))\n",
    "        print('\\rEpisode {}\\tScore: {:.2f}\\tAverage Score: {:.2f}'.format(i_episode, np.mean(scores), np.mean(scores_deque)))\n",
    "        \n",
    "        if np.mean(scores_deque)>=30.0:\n",
    "            print('\\nEnvironment solved in {:d} episodes!\\tAverage Score: {:.2f}'.format(i_episode-100, np.mean(scores_deque)))\n",
    "            torch.save(agent.actor_local.state_dict(), 'checkpoint_actor.pth')\n",
    "            torch.save(agent.critic_local.state_dict(), 'checkpoint_critic.pth')\n",
    "            break\n",
    "            \n",
    "    return scores_list\n",
    "\n",
    "scores = ddpg()\n",
    "\n",
    "fig = plt.figure()\n",
    "ax = fig.add_subplot(111)\n",
    "plt.plot(np.arange(1, len(scores)+1), scores)\n",
    "plt.ylabel('Score')\n",
    "plt.xlabel('Episode #')\n",
    "plt.show()"
   ]
  },
  {
   "cell_type": "markdown",
   "metadata": {},
   "source": [
    "### 4. Watch the agent play!"
   ]
  },
  {
   "cell_type": "code",
   "execution_count": 5,
   "metadata": {},
   "outputs": [],
   "source": [
    "agent.actor_local.load_state_dict(torch.load('checkpoint_actor.pth', map_location={'cuda:0': 'cpu'}))\n",
    "agent.critic_local.load_state_dict(torch.load('checkpoint_critic.pth', map_location={'cuda:0': 'cpu'}))\n",
    "\n",
    "env_info = env.reset(train_mode=False)[brain_name]        \n",
    "states = env_info.vector_observations                  \n",
    "scores = np.zeros(num_agents)                          \n",
    "\n",
    "for i in range(200):\n",
    "    actions = agent.act(states, add_noise=False)                    \n",
    "    env_info = env.step(actions)[brain_name]        \n",
    "    next_states = env_info.vector_observations        \n",
    "    rewards = env_info.rewards                        \n",
    "    dones = env_info.local_done                 \n",
    "    scores += rewards                         \n",
    "    states = next_states                              \n",
    "    if np.any(dones):                              \n",
    "        break"
   ]
  },
  {
   "cell_type": "code",
   "execution_count": 6,
   "metadata": {},
   "outputs": [],
   "source": [
    "env.close()"
   ]
  },
  {
   "cell_type": "code",
   "execution_count": null,
   "metadata": {},
   "outputs": [],
   "source": []
  },
  {
   "cell_type": "code",
   "execution_count": null,
   "metadata": {},
   "outputs": [],
   "source": []
  },
  {
   "cell_type": "code",
   "execution_count": null,
   "metadata": {},
   "outputs": [],
   "source": []
  }
 ],
 "metadata": {
  "kernelspec": {
   "display_name": "Python 3",
   "language": "python",
   "name": "python3"
  },
  "language_info": {
   "codemirror_mode": {
    "name": "ipython",
    "version": 3
   },
   "file_extension": ".py",
   "mimetype": "text/x-python",
   "name": "python",
   "nbconvert_exporter": "python",
   "pygments_lexer": "ipython3",
   "version": "3.6.7"
  }
 },
 "nbformat": 4,
 "nbformat_minor": 2
}
